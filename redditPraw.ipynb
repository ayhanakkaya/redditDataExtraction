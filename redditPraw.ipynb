{
 "cells": [
  {
   "cell_type": "markdown",
   "metadata": {},
   "source": [
    "# Reddit API Kullanarak Pyhton ile Veri Çekmek"
   ]
  },
  {
   "cell_type": "code",
   "execution_count": 5,
   "metadata": {},
   "outputs": [
    {
     "name": "stdout",
     "output_type": "stream",
     "text": [
      "Requirement already satisfied: praw in d:\\anaconda\\lib\\site-packages (7.1.0)\n",
      "Requirement already satisfied: websocket-client>=0.54.0 in d:\\anaconda\\lib\\site-packages (from praw) (0.57.0)\n",
      "Requirement already satisfied: prawcore<2.0,>=1.3.0 in d:\\anaconda\\lib\\site-packages (from praw) (1.5.0)\n",
      "Requirement already satisfied: update-checker>=0.17 in d:\\anaconda\\lib\\site-packages (from praw) (0.18.0)\n",
      "Requirement already satisfied: six in d:\\anaconda\\lib\\site-packages (from websocket-client>=0.54.0->praw) (1.15.0)\n",
      "Requirement already satisfied: requests<3.0,>=2.6.0 in d:\\anaconda\\lib\\site-packages (from prawcore<2.0,>=1.3.0->praw) (2.24.0)\n",
      "Requirement already satisfied: idna<3,>=2.5 in d:\\anaconda\\lib\\site-packages (from requests<3.0,>=2.6.0->prawcore<2.0,>=1.3.0->praw) (2.10)\n",
      "Requirement already satisfied: urllib3!=1.25.0,!=1.25.1,<1.26,>=1.21.1 in d:\\anaconda\\lib\\site-packages (from requests<3.0,>=2.6.0->prawcore<2.0,>=1.3.0->praw) (1.25.11)\n",
      "Requirement already satisfied: certifi>=2017.4.17 in d:\\anaconda\\lib\\site-packages (from requests<3.0,>=2.6.0->prawcore<2.0,>=1.3.0->praw) (2020.6.20)\n",
      "Requirement already satisfied: chardet<4,>=3.0.2 in d:\\anaconda\\lib\\site-packages (from requests<3.0,>=2.6.0->prawcore<2.0,>=1.3.0->praw) (3.0.4)\n",
      "Note: you may need to restart the kernel to use updated packages.\n"
     ]
    }
   ],
   "source": [
    "pip install praw"
   ]
  },
  {
   "cell_type": "code",
   "execution_count": 6,
   "metadata": {},
   "outputs": [],
   "source": [
    "import praw"
   ]
  },
  {
   "cell_type": "code",
   "execution_count": 7,
   "metadata": {},
   "outputs": [],
   "source": [
    "# reddit programında oluşturduğumuz app ile bize verilen id,secret,agent gibi değerleri tanımlıyoruz\n",
    "reddit = praw.Reddit(client_id='Hbw3RZJZZEPMtA', client_secret='t7jd1sSgWueMW8rvgqiH-YIVLXPJ5w', user_agent='data science')"
   ]
  },
  {
   "cell_type": "code",
   "execution_count": 8,
   "metadata": {},
   "outputs": [
    {
     "name": "stdout",
     "output_type": "stream",
     "text": [
      "Weekly Question Thread - Week of November 30\n",
      "Coronavirus (COVID-19) Update: FDA Announces Advisory Committee Meeting to Discuss Second COVID-19 Vaccine Candidate\n",
      "Virus strain from a mild COVID-19 patient in Hangzhou represents a new trend in SARS-CoV-2 evolution potentially related to Furin cleavage site\n",
      "D614G Spike Variant Does Not Alter IgG, IgM, or IgA Spike Seroassay Performance\n",
      "Remdesivir (Veklury) Approval for the Treatment of COVID-19—The Evidence for Safety and Efficacy\n",
      "Prospective mapping of viral mutations that escape antibodies used to treat COVID-19\n",
      "A single-dose live-attenuated YF17D-vectored SARS-CoV-2 vaccine candidate\n",
      "On the anti-correlation between COVID-19 infection rate and natural UV light in the UK\n",
      "Analysis of genomic distributions of SARS-CoV-2 reveals a dominant strain type with strong allelic associations\n",
      "Effectiveness of Convalescent Plasma Therapy in Indian Patients with COVID-19\n"
     ]
    }
   ],
   "source": [
    "#COVID19 etiketli subreddit den en güncel 10 postu çekiyoruz\n",
    "hot_posts = reddit.subreddit('COVID19').hot(limit=10)\n",
    "for post in hot_posts:\n",
    "    print(post.title)"
   ]
  },
  {
   "cell_type": "code",
   "execution_count": 12,
   "metadata": {},
   "outputs": [
    {
     "name": "stdout",
     "output_type": "stream",
     "text": [
      "0     Daily Discussion Post - December 01 | Question...\n",
      "1           Scientific Studies Looking For Participants\n",
      "2     Leaked government map reveals almost entire US...\n",
      "3     Most U.S. states expect to vaccinate healthcar...\n",
      "4     Comedian began chronicling his COVID-19 ‘journ...\n",
      "5     Japan approves bill to offer all residents fre...\n",
      "6     US panel votes to recommend health care worker...\n",
      "7     For the last week, South Dakota saw more COVID...\n",
      "8     High school junior is first Wisconsin teenager...\n",
      "9     'Very dark couple of weeks': Morgues and hospi...\n",
      "10    Canada PM Trudeau indicates U.S. border restri...\n",
      "11    Ice-T's Father-in-Law Is Now 'on Oxygen Indefi...\n",
      "12    Tuesday marks one year anniversary of COVID-19...\n",
      "13    States with few Coronavirus restrictions are s...\n",
      "14    U.S. averaging one COVID-related death every m...\n",
      "15    Don't want the COVID-19 vaccine? You could los...\n",
      "16    U.S. is heading for 100,000 COVID-19 patients ...\n",
      "17    Church leaders ask Gov. Noem to implement stat...\n",
      "18    Fauci Tells Zuckerberg COVID Pandemic Won't En...\n",
      "19    Fauci asks US to be 'part of the solution' and...\n",
      "Name: title, dtype: object\n"
     ]
    }
   ],
   "source": [
    "import pandas as pd\n",
    "posts = []\n",
    "covid_subreddit = reddit.subreddit('Coronavirus')\n",
    "for post in covid_subreddit.hot(limit=20):\n",
    "    posts.append([post.title, post.score, post.id, post.subreddit, post.url, post.num_comments, post.selftext, post.created])\n",
    "posts = pd.DataFrame(posts,columns=['title', 'score', 'id', 'subreddit', 'url', 'num_comments', 'body', 'created'])\n",
    "print(posts['title'])"
   ]
  },
  {
   "cell_type": "code",
   "execution_count": 13,
   "metadata": {},
   "outputs": [],
   "source": [
    "submission = reddit.submission(url=\"https://www.reddit.com/r/Coronavirus/comments/j4i1l6/scientific_studies_looking_for_participants/\")"
   ]
  },
  {
   "cell_type": "code",
   "execution_count": 14,
   "metadata": {},
   "outputs": [],
   "source": [
    "verileriYaz=open('yorumlar.txt','a')"
   ]
  },
  {
   "cell_type": "code",
   "execution_count": 15,
   "metadata": {},
   "outputs": [
    {
     "name": "stdout",
     "output_type": "stream",
     "text": [
      "**Affiliation:** Ariel University, Department of Nutritional Sciences\n",
      "\n",
      "**Study Title:** The Ariel University Survey of Dietary Changes and Anxiety during the Global Coronavirus Outbreak\n",
      "\n",
      "**Study Description:** The objective of this survey is to examine changes to your nutrition habits during the coronavirus pandemic. Specifically, the survey measures the extent to which your current nutrition intake corresponds to the Mediterranean Diet, and whether this is associated with your level of anxiety and/or your adjustment to the present situation.\n",
      "\n",
      "**Study Link:**  https://forms.gle/ThmVcRZJv3Mp7fpf6 (English) and http://da3761.wixsite.com/research (for Hebrew, Arabic, Italian, Spanish and French)\n",
      "\n",
      "**Disclaimer (ethical/legal):** This study is conducted under the authorization from the ethics committee for Ariel University\n",
      "\n",
      "**End Date:** until they get approx. 1000 respondents for each language\n",
      "**Affiliation:** University of Dundee, Department of Dentistry\n",
      "\n",
      "**Study Title:** Loss of taste and smell in COVID-19 infection\n",
      "\n",
      "**Study Description:** We are conducting a survey of the loss of taste and smell in people who have experienced COVID-19 infection. This is a short survey that takes about five minutes to complete. **It is open to anyone over the age of 18 who has been diagnosed with COVID-19 or suspected COVID-19 and who can read and write in English.** Even if you did not experience any loss of taste and smell your participation is extremely valuable.\n",
      "\n",
      "It is hoped that the resulting data can allow further insight into the significance of loss of taste and smell as symptoms of COVID-19 infection.\n",
      "\n",
      "**Study Link:** https://dundee.onlinesurveys.ac.uk/covid-19-smell-and-taste-questionnaire\n",
      "\n",
      "**Disclaimer (ethical/legal):** All responses are anonymous and entirely voluntary. We do not collect any identifiable data. Once a survey has been completed it is no longer possible to remove the data from the master list as no identifiers will be present. Data will be stored confidentially and securely in accordance with University of Dundee data security and GDPR regulations. Data will not be accessible to those out with the research team. Data may be shared with other academics for purposes of future research. In this event data will be shared securely with a data transfer agreement in place. This study has been approved by the University of Dundee Schools of Nursing & Health Sciences and Dentistry Research Ethics Committee (UOD\\SDEN\\STAFF\\2020\\017). \n",
      "\n",
      "**End Date:** Open\n",
      "**Affiliation:** University of Nevada, Department of Kinesiology and Nutritional Sciences\n",
      "\n",
      "**Study Title:** Association between shift work, sleep quality, physical activity, and SARS-CoV-2 susceptibility in shift workers.\n",
      "\n",
      "**Study Description:** The purpose of this study is to investigate the lifestyle and health differences between shift and non-shift workers. **To be eligible, you are between 18 and 65 years of age and you are willing to follow the study protocol which includes completing an initial questionnaire and then opting to participate in follow-up daily questionnaires.** If you volunteer to participate in this study, you will be asked to complete an initial questionnaire and subsequent daily questionniares. The questionnaires will assess your activity levels, sleep patterns, and history, as well as provide details about your employment. You will be asked to provide your email address in order to receive the daily questionnaires. Your responses will be tied to a randomly generated ID and not to your email address. \n",
      "\n",
      "**Study Link:** https://unlv.co1.qualtrics.com/jfe/form/SV_a9JusHS48SZx03z\n",
      "\n",
      "**Disclaimer (ethical/legal):** All information gathered in this study will be kept confidential. No reference will be made in written or oral materials that could link you to this study. All de-identified records will be stored in a locked facility at UNLV for 3 years after completion of the study, after which it will be destroyed. This study has been approved by the universities IRB (#: 1633189-1)\n",
      "\n",
      "**End Date:** Open\n",
      "**Affiliation:** University of California, San Francisco, Department of Otolaryngology\n",
      "\n",
      "**Study Title:** The COVID-19 Symptom Survey\n",
      "\n",
      "**Study Description:** We need your help to learn more about what and when symptoms become noticeable in COVID-19 infection. **If you have been tested for COVID-19 (positive or negative) or have been placed on quarantine, please consider joining our study or sharing with others.**\n",
      "The goal of this study is to inform evolving public policy and medical decision-making surrounding testing.  This survey will take 5-10 minutes to complete. You can optionally provide your email address to complete a 5 minute follow up survey in 2 weeks.\n",
      "\n",
      "**Study Link:** https://is.gd/ucsfcovid\n",
      "\n",
      "**Disclaimer (ethical/legal):** All responses are anonymous. We do not collect any personal or identifiable data, with the exception that participants can optionally provide their email address, which will only be used to send follow-up survey in 2 weeks. These data will be stored confidentially in accordance with UCSF's data security policy. This study has received approval from the UCSF institutional review board.\n",
      "\n",
      "**End Date:** Open\n",
      "**Affiliation:** Harvard University, Psychology Department  \n",
      "\n",
      "**Study Title:** Understanding the Primary Problems, Concerns, and Needs of Youths and Families during the Coronavirus Disease 2019 (COVID-19) Pandemic\n",
      "\n",
      "**Study Description:** In response to the COVID19 pandemic, and its resulting disruptions to daily life and mental health service delivery, mental health professionals have been shifting to virtual psychological care options, and researchers have been working to quickly develop and disseminate “emergency” digital supports to address mental health concerns among youths on a large-scale (Wang et al., 2020). It is critical to understand the primary problems, concerns, and needs—as well as how these vary by demographic and social characteristics and across time—among youths and families affected by COVID-19, from their own perspectives. We aim to collect these data, with the ultimate goal of informing which mental health interventions and tools, focused on which problems, might be most beneficial for families as the COVID-19 crisis progresses, and if similar situations arise in the future, as many professionals are predicting. **Open to those between the ages of 10-26 years old AND/OR those that are a caregiver to someone who is between the ages of 0-26 years old who is currently living with you**\n",
      "\n",
      "**Study Link:** https://harvard.az1.qualtrics.com/jfe/form/SV_b9RhZjMiRZRHoZD\n",
      "\n",
      "**Disclaimer (ethical/legal):** This study has received approval from the Harvard IRB (#20-0542)\n",
      " \n",
      "**End Date:** Open\n"
     ]
    },
    {
     "ename": "UnicodeEncodeError",
     "evalue": "'charmap' codec can't encode characters in position 1042-1045: character maps to <undefined>",
     "output_type": "error",
     "traceback": [
      "\u001b[1;31m---------------------------------------------------------------------------\u001b[0m",
      "\u001b[1;31mUnicodeEncodeError\u001b[0m                        Traceback (most recent call last)",
      "\u001b[1;32m<ipython-input-15-b1d84913c9d4>\u001b[0m in \u001b[0;36m<module>\u001b[1;34m\u001b[0m\n\u001b[0;32m      1\u001b[0m \u001b[1;32mfor\u001b[0m \u001b[0mtop_level_comment\u001b[0m \u001b[1;32min\u001b[0m \u001b[0msubmission\u001b[0m\u001b[1;33m.\u001b[0m\u001b[0mcomments\u001b[0m\u001b[1;33m:\u001b[0m\u001b[1;33m\u001b[0m\u001b[1;33m\u001b[0m\u001b[0m\n\u001b[1;32m----> 2\u001b[1;33m     \u001b[0mverileriYaz\u001b[0m\u001b[1;33m.\u001b[0m\u001b[0mwrite\u001b[0m\u001b[1;33m(\u001b[0m\u001b[0mtop_level_comment\u001b[0m\u001b[1;33m.\u001b[0m\u001b[0mbody\u001b[0m\u001b[1;33m)\u001b[0m\u001b[1;33m\u001b[0m\u001b[1;33m\u001b[0m\u001b[0m\n\u001b[0m\u001b[0;32m      3\u001b[0m     \u001b[0mprint\u001b[0m\u001b[1;33m(\u001b[0m\u001b[0mtop_level_comment\u001b[0m\u001b[1;33m.\u001b[0m\u001b[0mbody\u001b[0m\u001b[1;33m)\u001b[0m\u001b[1;33m\u001b[0m\u001b[1;33m\u001b[0m\u001b[0m\n\u001b[0;32m      4\u001b[0m \u001b[0mverileriYaz\u001b[0m\u001b[1;33m.\u001b[0m\u001b[0mclose\u001b[0m\u001b[1;33m(\u001b[0m\u001b[1;33m)\u001b[0m\u001b[1;33m\u001b[0m\u001b[1;33m\u001b[0m\u001b[0m\n",
      "\u001b[1;32mD:\\Anaconda\\lib\\encodings\\cp1254.py\u001b[0m in \u001b[0;36mencode\u001b[1;34m(self, input, final)\u001b[0m\n\u001b[0;32m     17\u001b[0m \u001b[1;32mclass\u001b[0m \u001b[0mIncrementalEncoder\u001b[0m\u001b[1;33m(\u001b[0m\u001b[0mcodecs\u001b[0m\u001b[1;33m.\u001b[0m\u001b[0mIncrementalEncoder\u001b[0m\u001b[1;33m)\u001b[0m\u001b[1;33m:\u001b[0m\u001b[1;33m\u001b[0m\u001b[1;33m\u001b[0m\u001b[0m\n\u001b[0;32m     18\u001b[0m     \u001b[1;32mdef\u001b[0m \u001b[0mencode\u001b[0m\u001b[1;33m(\u001b[0m\u001b[0mself\u001b[0m\u001b[1;33m,\u001b[0m \u001b[0minput\u001b[0m\u001b[1;33m,\u001b[0m \u001b[0mfinal\u001b[0m\u001b[1;33m=\u001b[0m\u001b[1;32mFalse\u001b[0m\u001b[1;33m)\u001b[0m\u001b[1;33m:\u001b[0m\u001b[1;33m\u001b[0m\u001b[1;33m\u001b[0m\u001b[0m\n\u001b[1;32m---> 19\u001b[1;33m         \u001b[1;32mreturn\u001b[0m \u001b[0mcodecs\u001b[0m\u001b[1;33m.\u001b[0m\u001b[0mcharmap_encode\u001b[0m\u001b[1;33m(\u001b[0m\u001b[0minput\u001b[0m\u001b[1;33m,\u001b[0m\u001b[0mself\u001b[0m\u001b[1;33m.\u001b[0m\u001b[0merrors\u001b[0m\u001b[1;33m,\u001b[0m\u001b[0mencoding_table\u001b[0m\u001b[1;33m)\u001b[0m\u001b[1;33m[\u001b[0m\u001b[1;36m0\u001b[0m\u001b[1;33m]\u001b[0m\u001b[1;33m\u001b[0m\u001b[1;33m\u001b[0m\u001b[0m\n\u001b[0m\u001b[0;32m     20\u001b[0m \u001b[1;33m\u001b[0m\u001b[0m\n\u001b[0;32m     21\u001b[0m \u001b[1;32mclass\u001b[0m \u001b[0mIncrementalDecoder\u001b[0m\u001b[1;33m(\u001b[0m\u001b[0mcodecs\u001b[0m\u001b[1;33m.\u001b[0m\u001b[0mIncrementalDecoder\u001b[0m\u001b[1;33m)\u001b[0m\u001b[1;33m:\u001b[0m\u001b[1;33m\u001b[0m\u001b[1;33m\u001b[0m\u001b[0m\n",
      "\u001b[1;31mUnicodeEncodeError\u001b[0m: 'charmap' codec can't encode characters in position 1042-1045: character maps to <undefined>"
     ]
    }
   ],
   "source": [
    "for top_level_comment in submission.comments:\n",
    "    verileriYaz.write(top_level_comment.body)\n",
    "    print(top_level_comment.body)\n",
    "verileriYaz.close()"
   ]
  },
  {
   "cell_type": "code",
   "execution_count": 16,
   "metadata": {},
   "outputs": [],
   "source": [
    "with open('yorumlar.txt') as inputfile, open('output.txt', 'w') as outputfile:\n",
    "    for line in inputfile:\n",
    "        if not line.strip():\n",
    "            continue\n",
    "        outputfile.write(line)"
   ]
  },
  {
   "cell_type": "code",
   "execution_count": null,
   "metadata": {},
   "outputs": [],
   "source": []
  },
  {
   "cell_type": "code",
   "execution_count": null,
   "metadata": {},
   "outputs": [],
   "source": []
  },
  {
   "cell_type": "code",
   "execution_count": null,
   "metadata": {},
   "outputs": [],
   "source": []
  }
 ],
 "metadata": {
  "kernelspec": {
   "display_name": "Python 3",
   "language": "python",
   "name": "python3"
  },
  "language_info": {
   "codemirror_mode": {
    "name": "ipython",
    "version": 3
   },
   "file_extension": ".py",
   "mimetype": "text/x-python",
   "name": "python",
   "nbconvert_exporter": "python",
   "pygments_lexer": "ipython3",
   "version": "3.7.4"
  }
 },
 "nbformat": 4,
 "nbformat_minor": 4
}
